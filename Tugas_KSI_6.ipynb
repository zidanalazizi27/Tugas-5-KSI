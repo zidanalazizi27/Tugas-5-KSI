{
  "nbformat": 4,
  "nbformat_minor": 0,
  "metadata": {
    "colab": {
      "provenance": [],
      "authorship_tag": "ABX9TyMMbgWc/+OLcYU3BH2BGvxp",
      "include_colab_link": true
    },
    "kernelspec": {
      "name": "python3",
      "display_name": "Python 3"
    },
    "language_info": {
      "name": "python"
    }
  },
  "cells": [
    {
      "cell_type": "markdown",
      "metadata": {
        "id": "view-in-github",
        "colab_type": "text"
      },
      "source": [
        "<a href=\"https://colab.research.google.com/github/zidanalazizi27/Tugas-5-KSI/blob/main/Tugas_KSI_6.ipynb\" target=\"_parent\"><img src=\"https://colab.research.google.com/assets/colab-badge.svg\" alt=\"Open In Colab\"/></a>"
      ]
    },
    {
      "cell_type": "markdown",
      "source": [
        "**Tugas 6 KSI**\n",
        "\n",
        "Nama : Zidan Al Azizi\n",
        "\n",
        "NIM  : 222112433\n",
        "\n",
        "Kelas: 3SI2\n",
        "\n",
        "No   : 38"
      ],
      "metadata": {
        "id": "nCM75_ZVboZV"
      }
    },
    {
      "cell_type": "markdown",
      "source": [
        "**Transposition ciphers**\n",
        "\n",
        "skema enkripsi data sederhana dimana karakter teks biasa digeser dalam beberapa pola teratur untuk membentuk teks sandi."
      ],
      "metadata": {
        "id": "sF3nzLSH76nq"
      }
    },
    {
      "cell_type": "code",
      "execution_count": null,
      "metadata": {
        "colab": {
          "base_uri": "https://localhost:8080/"
        },
        "id": "TeLhqOFm5kfW",
        "outputId": "b9067fc5-f9f4-4aa9-f1fc-87f41abe4c40"
      },
      "outputs": [
        {
          "output_type": "stream",
          "name": "stdout",
          "text": [
            "Masukkan 'e' untuk enkripsi atau 'd' untuk dekripsi : d\n",
            "Masukkan teks :aaknunmaaski\n",
            "Masukkan key : 6\n",
            "Teks terdekripsi :  akumakannasi\n"
          ]
        }
      ],
      "source": [
        "def encrypt(plain_text, key):\n",
        "    cipher_text = [''] * key\n",
        "    #iterasi setiap kolom dalam grid transposisi.\n",
        "    for col in range(key):\n",
        "        pointer = col\n",
        "        while pointer < len(plain_text):\n",
        "            cipher_text[col] += plain_text[pointer]\n",
        "            pointer += key\n",
        "    return ''.join(cipher_text)\n",
        "\n",
        "def decrypt(cipher_text, key):\n",
        "    num_of_cols = len(cipher_text) // key\n",
        "    num_of_rows = key\n",
        "    num_of_shaded_boxes = len(cipher_text) % key\n",
        "    plain_text = [''] * num_of_cols\n",
        "    col = 0\n",
        "    row = 0\n",
        "    #mengisi grid transposisi dengan teks terenkripsi.\n",
        "    for symbol in cipher_text:\n",
        "        plain_text[col] += symbol\n",
        "        col += 1\n",
        "        if (col == num_of_cols) or (col == num_of_cols - 1 and row >= num_of_rows - num_of_shaded_boxes):\n",
        "            col = 0\n",
        "            row += 1\n",
        "    return ''.join(plain_text)\n",
        "\n",
        "def main():\n",
        "    choice = input(\"Masukkan 'e' untuk enkripsi atau 'd' untuk dekripsi : \").lower()\n",
        "    text = input(\"Masukkan teks : \")\n",
        "    key = int(input(\"Masukkan key : \"))\n",
        "\n",
        "    if choice == 'e':\n",
        "        encrypted_text = encrypt(text, key)\n",
        "        print(\"Teks terenkripsi : \", encrypted_text)\n",
        "    elif choice == 'd':\n",
        "        decrypted_text = decrypt_transposition_cipher(text, key)\n",
        "        print(\"Teks terdekripsi : \", decrypted_text)\n",
        "    else:\n",
        "        print(\"Pilihan tidak valid. Silakan masukkan 'e' untuk enkripsi atau 'd' untuk dekripsi.\")\n",
        "\n",
        "if __name__ == \"__main__\":\n",
        "    main()\n"
      ]
    },
    {
      "cell_type": "markdown",
      "source": [
        "**Substitution ciphers**\n",
        "\n",
        " Sandi Caesar adalah sandi substitusi sederhana yang setiap hurufnya diputar ke kiri atau ke kanan sebanyak beberapa posisi di bawah abjad. Penerima pesan kemudian akan menggeser huruf-huruf itu kembali dengan jumlah posisi yang sama untuk mendapatkan pesan aslinya."
      ],
      "metadata": {
        "id": "DYfM4frF79uR"
      }
    },
    {
      "cell_type": "code",
      "source": [
        "def encrypt(plain_text, key):\n",
        "    alphabet = 'abcdefghijklmnopqrstuvwxyz'\n",
        "    encrypted_text = ''\n",
        "    #mengiterasi setiap karakter dalam teks.\n",
        "    for char in plain_text:\n",
        "        if char.lower() in alphabet:\n",
        "            index = (alphabet.index(char.lower()) + key) % 26\n",
        "            if char.isupper():\n",
        "                encrypted_text += alphabet[index].upper()\n",
        "            else:\n",
        "                encrypted_text += alphabet[index]\n",
        "        else:\n",
        "            encrypted_text += char\n",
        "    return encrypted_text\n",
        "\n",
        "def decrypt(cipher_text, key):\n",
        "    alphabet = 'abcdefghijklmnopqrstuvwxyz'\n",
        "    decrypted_text = ''\n",
        "    #mengiterasi setiap karakter dalam teks terenkripsi.\n",
        "    for char in cipher_text:\n",
        "        if char.lower() in alphabet:\n",
        "            index = (alphabet.index(char.lower()) - key) % 26\n",
        "            if char.isupper():\n",
        "                decrypted_text += alphabet[index].upper()\n",
        "            else:\n",
        "                decrypted_text += alphabet[index]\n",
        "        else:\n",
        "            decrypted_text += char\n",
        "    return decrypted_text\n",
        "\n",
        "def main():\n",
        "    choice = input(\"Masukkan 'e' untuk enkripsi atau 'd' untuk dekripsi : \").lower()\n",
        "    text = input(\"Masukkan teks : \")\n",
        "    key = int(input(\"Masukkan key : \"))\n",
        "\n",
        "    if choice == 'e':\n",
        "        encrypted_text = encrypt(text, key)\n",
        "        print(\"Encrypted text:\", encrypted_text)\n",
        "    elif choice == 'd':\n",
        "        decrypted_text = decrypt(text, key)\n",
        "        print(\"Decrypted text:\", decrypted_text)\n",
        "    else:\n",
        "        print(\"Pilihan tidak valid. Silakan masukkan 'e' untuk enkripsi atau 'd' untuk dekripsi.\")\n",
        "\n",
        "if __name__ == \"__main__\":\n",
        "    main()"
      ],
      "metadata": {
        "colab": {
          "base_uri": "https://localhost:8080/"
        },
        "id": "Ywxen4r48dwb",
        "outputId": "bba5a469-8038-4d7b-c49a-8d57eb60e6bd"
      },
      "execution_count": null,
      "outputs": [
        {
          "output_type": "stream",
          "name": "stdout",
          "text": [
            "Masukkan 'e' untuk enkripsi atau 'd' untuk dekripsi : d\n",
            "Masukkan teks : DoV hYl FvB\n",
            "Masukkan key : 7\n",
            "Decrypted text: WhO aRe YoU\n"
          ]
        }
      ]
    }
  ]
}